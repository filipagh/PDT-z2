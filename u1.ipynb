{
 "cells": [
  {
   "cell_type": "code",
   "execution_count": 6,
   "metadata": {
    "collapsed": true
   },
   "outputs": [],
   "source": [
    "# func to exec basic select\n",
    "from psycopg2.extras import RealDictCursor\n",
    "import psycopg2\n",
    "\n",
    "\"\"\" Connect to the PostgreSQL database server \"\"\"\n",
    "conn = None\n",
    "\n",
    "def exec_sql(sql: str):\n",
    "    try:\n",
    "        conn = psycopg2.connect(\"connect_timeout=3 dbname=tweets_db user=postgres password=root host=172.19.0.2\")\n",
    "        cur = conn.cursor(cursor_factory=RealDictCursor)\n",
    "\n",
    "        cur.execute(sql)\n",
    "        result = cur.fetchall()\n",
    "        cur.close()\n",
    "        return result\n",
    "    except (Exception, psycopg2.DatabaseError) as error:\n",
    "        print(error)\n",
    "    finally:\n",
    "        if conn is not None:\n",
    "            conn.close()"
   ]
  },
  {
   "cell_type": "markdown",
   "source": [
    "## uloha 1\n"
   ],
   "metadata": {
    "collapsed": false
   }
  },
  {
   "cell_type": "code",
   "execution_count": 7,
   "outputs": [
    {
     "name": "stdout",
     "output_type": "stream",
     "text": [
      "[RealDictRow([('QUERY PLAN', 'Gather  (cost=1000.00..197354.20 rows=1 width=118)')]), RealDictRow([('QUERY PLAN', '  Workers Planned: 5')]), RealDictRow([('QUERY PLAN', '  ->  Parallel Seq Scan on accounts  (cost=0.00..196354.10 rows=1 width=118)')]), RealDictRow([('QUERY PLAN', \"        Filter: ((screen_name)::text = 'realDonaldTrump'::text)\")]), RealDictRow([('QUERY PLAN', 'JIT:')]), RealDictRow([('QUERY PLAN', '  Functions: 2')]), RealDictRow([('QUERY PLAN', '  Options: Inlining false, Optimization false, Expressions true, Deforming true')])]\n"
     ]
    }
   ],
   "source": [
    "sql = '''EXPLAIN SELECT * from accounts where screen_name = 'realDonaldTrump' '''\n",
    "print(exec_sql(sql))"
   ],
   "metadata": {
    "collapsed": false,
    "pycharm": {
     "name": "#%%\n"
    }
   }
  },
  {
   "cell_type": "markdown",
   "source": [
    "kedze nemame index nad screen_name tak pouzuje sa seq scan\n",
    "planovac pouzil Parallel Seq Scan pretoze moze nad kazdym riadkom paralelne urcit ci podmienka je validna a teda ci riadok sa ma dostat do vysledku\n",
    "nasledne len zozbiera vhodne riadky\n",
    "\n",
    "\n",
    "| QUERY PLAN |\n",
    "| :--- |\n",
    "| Gather  \\(cost=1000.00..223590.46 rows=1 width=119\\) \\(actual time=1.690..274.040 rows=1 loops=1\\) |\n",
    "|   Workers Planned: 2 |\n",
    "|   Workers Launched: 2 |\n",
    "|   -&gt;  Parallel Seq Scan on accounts  \\(cost=0.00..222590.36 rows=1 width=119\\) \\(actual time=161.895..251.866 rows=0 loops=3\\) |\n",
    "|         Filter: \\(\\(screen\\_name\\)::text = 'realDonaldTrump'::text\\) |\n",
    "|         Rows Removed by Filter: 3229079 |\n",
    "| Planning Time: 0.036 ms |\n",
    "| JIT: |\n",
    "|   Functions: 6 |\n",
    "|   Options: Inlining false, Optimization false, Expressions true, Deforming true |\n"
   ],
   "metadata": {
    "collapsed": false,
    "pycharm": {
     "name": "#%% md\n"
    }
   }
  },
  {
   "cell_type": "markdown",
   "source": [
    "## uloha 2\n",
    "na ulohe 1. pracovali 2 z 2 alokovanych workerov\n",
    "\n",
    "nasledne budeme zvysovat `max_parallel_workers_per_gather` po 2 (default 2)\n",
    "\n",
    "---\n",
    "4/4 workers\n",
    "\n",
    "| QUERY PLAN |\n",
    "| :--- |\n",
    "| Gather  \\(cost=1000.00..203408.72 rows=1 width=119\\) \\(actual time=2.868..246.007 rows=1 loops=1\\) |\n",
    "|   Workers Planned: 4 |\n",
    "|   Workers Launched: 4 |\n",
    "|   -&gt;  Parallel Seq Scan on accounts  \\(cost=0.00..202408.62 rows=1 width=119\\) \\(actual time=156.937..205.075 rows=0 loops=5\\) |\n",
    "|         Filter: \\(\\(screen\\_name\\)::text = 'realDonaldTrump'::text\\) |\n",
    "|         Rows Removed by Filter: 1937447 |\n",
    "| Planning Time: 0.390 ms |\n",
    "| JIT: |\n",
    "|   Functions: 10 |\n",
    "|   Options: Inlining false, Optimization false, Expressions true, Deforming true |\n",
    "\n",
    "---\n",
    "5/6 workers\n",
    "\n",
    "| QUERY PLAN |\n",
    "| :--- |\n",
    "| Gather  \\(cost=1000.00..197354.20 rows=1 width=119\\) \\(actual time=7.224..269.136 rows=1 loops=1\\) |\n",
    "|   Workers Planned: 5 |\n",
    "|   Workers Launched: 5 |\n",
    "|   -&gt;  Parallel Seq Scan on accounts  \\(cost=0.00..196354.10 rows=1 width=119\\) \\(actual time=169.104..211.635 rows=0 loops=6\\) |\n",
    "|         Filter: \\(\\(screen\\_name\\)::text = 'realDonaldTrump'::text\\) |\n",
    "|         Rows Removed by Filter: 1614540 |\n",
    "| Planning Time: 0.044 ms |\n",
    "| JIT: |\n",
    "|   Functions: 12 |\n",
    "|   Options: Inlining false, Optimization false, Expressions true, Deforming true |\n",
    "\n",
    "---\n",
    "\n",
    "limit je 5 workerov pri zmene len `max_parallel_workers_per_gather` configu\n",
    "\n",
    "nasledne som zmenil parallel_workers setting tabulky accounts na 6\n",
    "\n",
    "| QUERY PLAN |\n",
    "| :--- |\n",
    "| Gather  \\(cost=1000.00..193317.85 rows=1 width=119\\) \\(actual time=6.627..267.930 rows=1 loops=1\\) |\n",
    "|   Workers Planned: 6 |\n",
    "|   Workers Launched: 6 |\n",
    "|   -&gt;  Parallel Seq Scan on accounts  \\(cost=0.00..192317.75 rows=1 width=119\\) \\(actual time=166.741..203.115 rows=0 loops=7\\) |\n",
    "|         Filter: \\(\\(screen\\_name\\)::text = 'realDonaldTrump'::text\\) |\n",
    "|         Rows Removed by Filter: 1383891 |\n",
    "| Planning Time: 0.041 ms |\n",
    "| JIT: |\n",
    "|   Functions: 14 |\n",
    "|   Options: Inlining false, Optimization false, Expressions true, Deforming true |\n",
    "\n",
    "dalsie limity:\n",
    "\n",
    "* `max_worker_processes` ktore urcuju pocet procesov pre workerow globalne\n",
    "* `max_parallel_workers` limit workerov na 1 paralelnu operaciu\n",
    "---\n",
    "8/8 workers\n",
    "\n",
    "tu uz je mozne vidiet zlom na mojom CPU (4c/4t) kde pocet procesov a ich sprava znizuje rychlost query\n",
    "\n",
    "| QUERY PLAN |\n",
    "| :--- |\n",
    "| Gather  \\(cost=1000.00..188272.41 rows=1 width=119\\) \\(actual time=1.869..332.442 rows=1 loops=1\\) |\n",
    "|   Workers Planned: 8 |\n",
    "|   Workers Launched: 8 |\n",
    "|   -&gt;  Parallel Seq Scan on accounts  \\(cost=0.00..187272.31 rows=1 width=119\\) \\(actual time=208.851..244.730 rows=0 loops=9\\) |\n",
    "|         Filter: \\(\\(screen\\_name\\)::text = 'realDonaldTrump'::text\\) |\n",
    "|         Rows Removed by Filter: 1076360 |\n",
    "| Planning Time: 0.066 ms |\n",
    "| JIT: |\n",
    "|   Functions: 18 |\n",
    "|   Options: Inlining false, Optimization false, Expressions true, Deforming true |\n"
   ],
   "metadata": {
    "collapsed": false
   }
  },
  {
   "cell_type": "markdown",
   "source": [
    "## uloha 3\n",
    "\n",
    "```create index accounts_screen_name on accounts USING btree (screen_name);```\n",
    "\n",
    "| QUERY PLAN |\n",
    "| :--- |\n",
    "| Index Scan using accounts\\_screen\\_name on accounts  \\(cost=0.43..8.45 rows=1 width=118\\) \\(actual time=0.034..0.036 rows=1 loops=1\\) |\n",
    "|   Index Cond: \\(\\(screen\\_name\\)::text = 'realDonaldTrump'::text\\) |\n",
    "| Planning Time: 0.088 ms |\n",
    "| Execution Time: 0.057 ms |\n",
    "\n",
    "cas klesol z 250/300 na 50/60 ms\n",
    "kedze mame index presnych hodnot tak v nom vieme velmi rychlo zistit ktore riadky maju pozadovanu hodnotu.\n",
    "\n",
    "wokrer bol iba 1 teda paralel index scan pouzity nebol lebo index je maly a casovo je nevyhodne vytvorit dalsi process workera"
   ],
   "metadata": {
    "collapsed": false
   }
  },
  {
   "cell_type": "markdown",
   "source": [
    "## uloha 4\n",
    "\n",
    "```EXPLAIN ANALYSE SELECT * from public.accounts where followers_count >= 100 and followers_count <= 200;```\n",
    "\n",
    "\n",
    "kedze nemame index tak sa pouzil seq scan\n",
    "\n",
    "| QUERY PLAN |\n",
    "| :--- |\n",
    "| Seq Scan on accounts  \\(cost=0.00..317444.57 rows=1270008 width=118\\) \\(actual time=3.845..1858.003 rows=1269496 loops=1\\) |\n",
    "|   Filter: \\(\\(followers\\_count &gt;= 100\\) AND \\(followers\\_count &lt;= 200\\)\\) |\n",
    "|   Rows Removed by Filter: 8417742 |\n",
    "| Planning Time: 0.137 ms |\n",
    "| JIT: |\n",
    "|   Functions: 2 |\n",
    "|   Options: Inlining false, Optimization false, Expressions true, Deforming true |\n",
    "|   Timing: Generation 0.471 ms, Inlining 0.000 ms, Optimization 0.206 ms, Emission 3.471 ms, Total 4.147 ms |\n",
    "| Execution Time: 1922.475 ms |\n",
    "\n",
    "ked som znizil cost na tuple a paralel worker init tak sa pouzil paralel seq scan ktory zlepsil cas\n",
    "\n",
    "| QUERY PLAN |\n",
    "| :--- |\n",
    "| Gather  \\(cost=1000.00..202197.71 rows=1270008 width=118\\) \\(actual time=5.253..1098.916 rows=1269496 loops=1\\) |\n",
    "|   Workers Planned: 5 |\n",
    "|   Workers Launched: 5 |\n",
    "|   -&gt;  Parallel Seq Scan on accounts  \\(cost=0.00..201197.71 rows=254002 width=118\\) \\(actual time=8.961..815.760 rows=211583 loops=6\\) |\n",
    "|         Filter: \\(\\(followers\\_count &gt;= 100\\) AND \\(followers\\_count &lt;= 200\\)\\) |\n",
    "|         Rows Removed by Filter: 1402957 |\n",
    "| Planning Time: 0.077 ms |\n",
    "| JIT: |\n",
    "|   Functions: 12 |\n",
    "|   Options: Inlining false, Optimization false, Expressions true, Deforming true |\n",
    "\n",
    "v pripade ze where con. zahrna vela vysledkov tak optimalize moze uprednostnit nie paralelny pristup z dovodu velkeho costu pri presunuti udajov medzy workermi"
   ],
   "metadata": {
    "collapsed": false
   }
  },
  {
   "cell_type": "markdown",
   "source": [
    "## uloha 5\n",
    "\n",
    "| QUERY PLAN |\n",
    "| :--- |\n",
    "| Bitmap Heap Scan on accounts  \\(cost=17466.02..310875.89 rows=1270008 width=118\\) \\(actual time=135.172..2335.904 rows=1269496 loops=1\\) |\n",
    "|   Recheck Cond: \\(\\(followers\\_count &gt;= 100\\) AND \\(followers\\_count &lt;= 200\\)\\) |\n",
    "|   Rows Removed by Index Recheck: 6449000 |\n",
    "|   Heap Blocks: exact=39770 lossy=132186 |\n",
    "|   -&gt;  Bitmap Index Scan on accounts\\_followers\\_count\\_index  \\(cost=0.00..17148.52 rows=1270008 width=0\\) \\(actual time=118.010..118.011 rows=1269496 loops=1\\) |\n",
    "|         Index Cond: \\(\\(followers\\_count &gt;= 100\\) AND \\(followers\\_count &lt;= 200\\)\\) |\n",
    "| Planning Time: 0.178 ms |\n",
    "| JIT: |\n",
    "|   Functions: 2 |\n",
    "|   Options: Inlining false, Optimization false, Expressions true, Deforming true |\n"
   ],
   "metadata": {
    "collapsed": false
   }
  },
  {
   "cell_type": "markdown",
   "source": [
    "## uloha 6"
   ],
   "metadata": {
    "collapsed": false
   }
  },
  {
   "cell_type": "markdown",
   "source": [
    "## uloha 2"
   ],
   "metadata": {
    "collapsed": false
   }
  },
  {
   "cell_type": "markdown",
   "source": [
    "## uloha 2"
   ],
   "metadata": {
    "collapsed": false
   }
  },
  {
   "cell_type": "markdown",
   "source": [
    "## uloha 2"
   ],
   "metadata": {
    "collapsed": false
   }
  },
  {
   "cell_type": "markdown",
   "source": [
    "## uloha 2"
   ],
   "metadata": {
    "collapsed": false
   }
  },
  {
   "cell_type": "markdown",
   "source": [
    "## uloha 2"
   ],
   "metadata": {
    "collapsed": false
   }
  },
  {
   "cell_type": "markdown",
   "source": [
    "## uloha 2"
   ],
   "metadata": {
    "collapsed": false
   }
  },
  {
   "cell_type": "markdown",
   "source": [
    "## uloha 2"
   ],
   "metadata": {
    "collapsed": false
   }
  },
  {
   "cell_type": "markdown",
   "source": [
    "## uloha 2"
   ],
   "metadata": {
    "collapsed": false
   }
  },
  {
   "cell_type": "markdown",
   "source": [
    "## uloha 2"
   ],
   "metadata": {
    "collapsed": false
   }
  },
  {
   "cell_type": "markdown",
   "source": [
    "## uloha 2"
   ],
   "metadata": {
    "collapsed": false
   }
  },
  {
   "cell_type": "markdown",
   "source": [
    "## uloha 2"
   ],
   "metadata": {
    "collapsed": false
   }
  },
  {
   "cell_type": "markdown",
   "source": [
    "## uloha 2"
   ],
   "metadata": {
    "collapsed": false
   }
  },
  {
   "cell_type": "markdown",
   "source": [
    "## uloha 2\n"
   ],
   "metadata": {
    "collapsed": false
   }
  }
 ],
 "metadata": {
  "kernelspec": {
   "display_name": "Python 3",
   "language": "python",
   "name": "python3"
  },
  "language_info": {
   "codemirror_mode": {
    "name": "ipython",
    "version": 2
   },
   "file_extension": ".py",
   "mimetype": "text/x-python",
   "name": "python",
   "nbconvert_exporter": "python",
   "pygments_lexer": "ipython2",
   "version": "2.7.6"
  }
 },
 "nbformat": 4,
 "nbformat_minor": 0
}